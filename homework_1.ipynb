{
  "cells": [
    {
      "cell_type": "markdown",
      "metadata": {
        "id": "lKX2vJCTEDPT"
      },
      "source": [
        "# Homework Assignment #1\n",
        "\n",
        "### Due Date: Tuesday, November 26, by Midnight\n",
        "\n",
        "### Instructions\n",
        "For each question, show all your work and explain each step where possible. This assignment covers calculus, linear algebra, and probability theory. Some questions may require combining concepts from multiple sections, so ensure you review all material thoroughly. Good luck!\n",
        "\n",
        "**Note:** For all probability questions, use exact values when possible, and round your final answers to four decimal places if needed. For calculus and linear algebra questions, include clear explanations for each step of your work."
      ]
    },
    {
      "cell_type": "markdown",
      "metadata": {
        "id": "3tt1b7-iEDPU"
      },
      "source": [
        "## Part I: Calculus (Derivatives and Integrals)"
      ]
    },
    {
      "cell_type": "markdown",
      "metadata": {
        "id": "7Ig-Ium3EDPU"
      },
      "source": [
        "### Question 1\n",
        "Let $ f(x) = x^3 - 6x^2 + 9x - 4 $.\n",
        "1. Find $ f'(x) $, the first derivative of $ f(x) $.\n",
        "2. Determine the critical points of $ f(x) $ by solving $ f'(x) = 0 $.\n",
        "3. Using the second derivative test, classify each critical point as a local maximum, minimum, or point of inflection."
      ]
    },
    {
      "cell_type": "markdown",
      "metadata": {
        "id": "wyFtA8tOEDPU"
      },
      "source": [
        "1. $f'(x)=3x^2-2\\cdot6x+9=3x^2-12x+9$ <br>\n",
        "2. $f'(x)=3x^2-12x+9=0$ <br> $x^2-4x+3=0$ <br> $(x-3)\\cdot(x-1)=0$ <br> $x_1=3 \\;\\;\\; x_2=1$ <br>\n",
        "3. $f''(x)=2\\cdot3x-12=6x-12$ <br> $f''(x_1=3)=6\\cdot3-12=6$ <br> $f''(x_1=3)>0$ <br> The critical point $x_1=3$ is a local minimum of $f(x)=x^3-6x^2+9x-4$. <br> $f''(x_2=1)=6\\cdot1-12=0$ <br> The critical point $x_2=1$ is a point of inflection of $f(x)=x^3-6x^2+9x-4$.\n",
        "\n"
      ]
    },
    {
      "cell_type": "markdown",
      "metadata": {
        "id": "LwSTDsMlEDPU"
      },
      "source": [
        "### Question 2\n",
        "Evaluate the following indefinite integral:\n",
        "\n",
        "$$\n",
        "\\int \\frac{2x^3 - 5x + 3}{x^2} \\, dx\n",
        "$$"
      ]
    },
    {
      "cell_type": "markdown",
      "metadata": {
        "id": "uZoRi5SBEDPV"
      },
      "source": [
        "$\\int \\frac{2x^3 - 5x + 3}{x^2} dx= 2\\int{x} \\;dx\\;-5\\int\\frac{1}{x}\\;dx\\;+3\\int\\frac{1}{x^2}\\;dx$ <br> $2\\int x\\;dx=\\frac{2x^2}{2}=x^2+c$ <br> $5\\int\\frac{1}{x}\\;dx=5ln|x|+c$ <br> $3\\int\\frac{1}{x^2}\\;dx=-\\frac{3}{x}+c$ <br> $\\int \\frac{2x^3 - 5x + 3}{x^2} dx= x^2 -5ln|x| -\\frac{1}{x}+c$"
      ]
    },
    {
      "cell_type": "markdown",
      "metadata": {
        "id": "0YWVjPGfEDPV"
      },
      "source": [
        "### Question 3\n",
        "Compute the definite integral:\n",
        "\n",
        "$$\n",
        "\\int_0^3 (3x^2 - 4x + 2) \\, dx\n",
        "$$\n",
        "\n",
        "Then interpret the result as the area under the curve of $ f(x) = 3x^2 - 4x + 2 $ over the interval $ [0, 3] $."
      ]
    },
    {
      "cell_type": "markdown",
      "metadata": {
        "id": "sy5QOPdvEDPV"
      },
      "source": [
        "$\\int_0^3 (3x^2 - 4x + 2) \\, dx=\\frac{3x^3}{3}-\\frac{4x^2}{2}+2x\\bigr]^3_0=(3^3-2\\cdot3^2+6)-0=27-18+6=15$"
      ]
    },
    {
      "cell_type": "markdown",
      "metadata": {
        "id": "MIT43dHuEDPV"
      },
      "source": [
        "### Question 4\n",
        "Let $ g(x) = x e^x $.\n",
        "1. Find $ g'(x) $ using the product rule.\n",
        "2. Determine the integral $ \\int x e^x \\, dx $ by using integration by parts."
      ]
    },
    {
      "cell_type": "markdown",
      "metadata": {
        "id": "5Ah596BkEDPV"
      },
      "source": [
        "1. $g'(x)=1\\cdot{e^x}+x\\cdot{e^x}=e^x(1+x)$\n",
        "2. Based on the product rule: <br> $\\int{u(x)dv}=u(x)v(x)-\\int{v(x)du(x)}$ <br> let $u(x)=x \\;du=dx$ <br> let $dv=e^xdx\\;v=e^x$ <br> $\\int{xe^{x}dx}=xe^x-\\int{e^xdx}$ <br> $\\int{e^xdx}=e^x+C$ <br> $\\int{xe^xdx}=xe^x-e^x+c$"
      ]
    },
    {
      "cell_type": "markdown",
      "metadata": {
        "id": "oqoRvnwKEDPV"
      },
      "source": [
        "### Question 5\n",
        "Suppose $ h(x) = \\sin(x) e^{3x} $.\n",
        "1. Calculate $ h'(x) $.\n",
        "2. Compute $ \\int \\sin(x) e^{3x} \\, dx $ using integration by parts twice."
      ]
    },
    {
      "cell_type": "markdown",
      "metadata": {
        "id": "dFuzLEbREDPV"
      },
      "source": [
        "1. $h'(x)=cos(x)e^{3x}+sinx(x)3e^{3x}=e^{3x}(cos(x)+3sin(x))$\n",
        "2. $u(x)=sinx(x) \\;\\;\\; du=cos(x)dx$ <br>\n",
        "first integration by prats: <Br>\n",
        "$dv=e^{3x}dx \\;\\;\\; v=\\frac{1}{3}e^{3x}$ <br>\n",
        "$ \\int \\sin(x) e^{3x}=\\frac{1}{3}sin(x)e^{3x}-\\frac{1}{3}\\int e^{3x}cos(x)dx$ <br>\n",
        "second integration by parts <br>\n",
        "$u=cos(x) \\;\\;\\; du=-sin(x)dx$ <br>\n",
        "$dv=e^{3x}dx \\;\\;\\; v=\\frac{1}{3}e^{3x}$ <br>\n",
        "$\\int e^{3x}cos(x)dx=\\frac{1}{3}cos(x)e^{3x}+\\frac{1}{3}\\int e^{3x}sinx(x)dx$ <br>\n",
        "$\\int sin(x)e^{3x}dx=\\frac{1}{3}sin(x)e^{3x}-\\frac{1}{9}cos(x)e^{3x}-\\frac{1}{9}\\int sin(x)e^{3x}dx$ <br>\n",
        "$\\int sin(x)e^{3x}dx+\\frac{1}{9}\\int sin(x)e^{3x}dx=\\frac{1}{3}sin(x)e^{3x}-\\frac{1}{9}cos(x)e^{3x}dx$ <br>\n",
        "$\\frac{10}{9}\\int sin(x)e^{3x}dx=\\frac{1}{3}sin(x)e^{3x}-\\frac{1}{9}cos(x)e^{3x}$ <br>\n",
        "$\\int sin(x)e^{3x}dx=\\frac{3}{10}sin(x)e^{3x}-\\frac{1}{10}cos(x)e^{3x}+C$"
      ]
    },
    {
      "cell_type": "markdown",
      "metadata": {
        "id": "PCBYfA56EDPV"
      },
      "source": [
        "## Part II: Linear Algebra"
      ]
    },
    {
      "cell_type": "markdown",
      "metadata": {
        "id": "Pu9V0voQEDPV"
      },
      "source": [
        "### Question 6\n",
        "Consider the following system of linear equations:\n",
        "$$\n",
        "2x + 3y - z = 4\n",
        "$$\n",
        "$$\n",
        "x - 2y + 4z = -3\n",
        "$$\n",
        "$$\n",
        "3x + y + 2z = 5\n",
        "$$\n",
        "1. Write the system in matrix form $ AX = B $.\n",
        "2. Find the determinant of $ A $.\n",
        "3. If the determinant is non-zero, use the inverse of $ A $ to solve for $ X $."
      ]
    },
    {
      "cell_type": "markdown",
      "metadata": {
        "id": "GGiuEjk2EDPV"
      },
      "source": [
        "1. $$\n",
        "\\begin{pmatrix}\n",
        "2 & 3 & -1 \\\\ 1& -2 & 4  \\\\ 3 & 1 & 2  \n",
        "\\end{pmatrix}\n",
        "\\cdot\n",
        "\\begin{pmatrix} x\\\\y\\\\z \\end{pmatrix} = \\begin{pmatrix} 4\\\\-3\\\\5 \\end{pmatrix}$$\n",
        "\n",
        "2. $Det(A)=2\\cdot \\begin{vmatrix} -2 &4 \\\\1&2 \\end{vmatrix} -3\\cdot\\begin{vmatrix} 1 &4 \\\\3&2 \\end{vmatrix} -1\\cdot\\begin{vmatrix} 1&-2 \\\\ 3&1 \\end{vmatrix}$ <br>\n",
        "$\\begin{vmatrix} -2 &4 \\\\1&2 \\end{vmatrix}= (-2\\cdot2)-4=-8$ <br>\n",
        "$\\begin{vmatrix} 1 &4 \\\\3&2 \\end{vmatrix}=2-(3\\cdot4)=-10$ <br>\n",
        "$\\begin{vmatrix} 1&-2 \\\\ 3&1 \\end{vmatrix}=1+(2\\cdot3)=7$ <br>\n",
        "$Det(A)=(2\\cdot-8)-(3\\cdot-10)-(1\\cdot7)=-16+30-7=7$\n",
        "3. $X=BA^{-1}$ <br>\n",
        "In order to find $A^{-1}$ I'll apply the same actions I use to grade $A$ on $I$. <br>\n",
        "$$\n",
        "\\begin{pmatrix}\n",
        "2&3&-1\n",
        "\\\\1&-2&4\n",
        "\\\\3&1&2\n",
        "\\end{pmatrix}\n",
        "\\begin{pmatrix}\n",
        "1&0&0\n",
        "\\\\0&1&0\n",
        "\\\\0&0&1\n",
        "\\end{pmatrix}\n",
        "$$\n",
        "$l_1\\cdot\\frac{1}{2}\\rightarrow l_1$\n",
        "\n",
        "$$\n",
        "\\begin{pmatrix}\n",
        "1&1.5&-0.5\n",
        "\\\\1&-2&4\n",
        "\\\\3&1&2\n",
        "\\end{pmatrix}\n",
        "\\begin{pmatrix}\n",
        "0.5&0&0\n",
        "\\\\0&1&0\n",
        "\\\\0&0&1\n",
        "\\end{pmatrix}\n",
        "$$\n",
        "$l_2-l_1\\rightarrow l_2$\n",
        "\n",
        "$$\n",
        "\\begin{pmatrix}\n",
        "1&1.5&-0.5\n",
        "\\\\0&-3.5&4.5\n",
        "\\\\3&1&2\n",
        "\\end{pmatrix}\n",
        "\\begin{pmatrix}\n",
        "0.5&0&0\n",
        "\\\\-0.5&1&0\n",
        "\\\\0&0&1\n",
        "\\end{pmatrix}\n",
        "$$\n",
        "\n",
        "$l_3-3l_1 \\rightarrow l_3$\n",
        "\n",
        "$$\n",
        "\\begin{pmatrix}\n",
        "1&1.5&-0.5\n",
        "\\\\0&-3.5&4.5\n",
        "\\\\0&-3.5&3.5\n",
        "\\end{pmatrix}\n",
        "\\begin{pmatrix}\n",
        "0.5&0&0\n",
        "\\\\-0.5&1&0\n",
        "\\\\-1.5&0&1\n",
        "\\end{pmatrix}\n",
        "$$\n",
        "$l_3-l_2 \\rightarrow l_3$\n",
        "\n",
        "$$\n",
        "\\begin{pmatrix}\n",
        "1&1.5&-0.5\n",
        "\\\\0&-3.5&4.5\n",
        "\\\\0&0&-1\n",
        "\\end{pmatrix}\n",
        "\\begin{pmatrix}\n",
        "0.5&0&0\n",
        "\\\\-0.5&1&0\n",
        "\\\\-1&-1&1\n",
        "\\end{pmatrix}\n",
        "$$\n",
        "$l_2\\cdot-\\frac{1}{3.5} \\rightarrow l_2$\n",
        "\n",
        "$$\n",
        "\\begin{pmatrix}\n",
        "1&1.5&-0.5\n",
        "\\\\0&1&-\\frac{9}{7}\n",
        "\\\\0&0&-1\n",
        "\\end{pmatrix}\n",
        "\\begin{pmatrix}\n",
        "0.5&0&0\n",
        "\\\\ \\frac{1}{7}&\\frac{-2}{7}&0\n",
        "\\\\-1&-1&1\n",
        "\\end{pmatrix}\n",
        "$$\n",
        "$l_3 \\cdot (-1) \\rightarrow l_3$\n",
        "$$\n",
        "\\begin{pmatrix}\n",
        "1&1.5&-0.5\n",
        "\\\\0&1&\\frac{-9}{7}\n",
        "\\\\0&0&1\n",
        "\\end{pmatrix}\n",
        "\\begin{pmatrix}\n",
        "0.5&0&0\n",
        "\\\\\\frac{1}{7}&-\\frac{1}{7}&0\n",
        "\\\\1&1&-1\n",
        "\\end{pmatrix}\n",
        "$$\n",
        "$$A^{-1}=\n",
        "\\begin{pmatrix}\n",
        "0.5&0&0\n",
        "\\\\ \\frac{1}{7}&\\frac{-1}{7}&0\n",
        "\\\\1&1&-1\n",
        "\\end{pmatrix}$$\n",
        "\n",
        "$$\n",
        "X=B\\cdot A^{-1}=\n",
        "\\begin{pmatrix}\n",
        "4\n",
        "\\\\-3\n",
        "\\\\5\n",
        "\\end{pmatrix}\n",
        "\\cdot\n",
        "\\begin{pmatrix}\n",
        "0.5&0&0\n",
        "\\\\\\frac{1}{7}&-\\frac{1}{7}&0\n",
        "\\\\1&1&-1\n",
        "\\end{pmatrix}\n",
        "$$\n",
        "\n",
        "$$\n",
        "X=4\\cdot \\begin{pmatrix}\n",
        "0.5\n",
        "\\\\\\frac{1}{7}\n",
        "\\\\1\n",
        "\\end{pmatrix} -3 \\begin{pmatrix}\n",
        "0\n",
        "\\\\-\\frac{1}{7}\n",
        "\\\\1\n",
        "\\end{pmatrix} +5 \\begin{pmatrix}\n",
        "0\n",
        "\\\\0\n",
        "\\\\-1\n",
        "\\end{pmatrix}=\n",
        "\\begin{pmatrix}\n",
        "2\n",
        "\\\\1\n",
        "\\\\-4\n",
        "\\end{pmatrix}\n",
        "$$"
      ]
    },
    {
      "cell_type": "markdown",
      "metadata": {
        "id": "rNb-wvxAEDPV"
      },
      "source": [
        "### Question 7\n",
        "Given the matrices:\n",
        "\n",
        "$$\n",
        "A = \\begin{pmatrix} 2 & -1 \\\\ 0 & 3 \\end{pmatrix} \\quad \\text{and} \\quad B = \\begin{pmatrix} 4 & 1 \\\\ -2 & 5 \\end{pmatrix}\n",
        "$$\n",
        "\n",
        "1. Compute $ A + B $ and $ A - B $.\n",
        "2. Find the product $ AB $ and $ BA $.\n",
        "3. Is $ AB = BA $? Justify your answer."
      ]
    },
    {
      "cell_type": "markdown",
      "metadata": {
        "id": "Qms3CYA3EDPV"
      },
      "source": [
        "1. $$\n",
        "A+B=\\begin{pmatrix}\n",
        "6&0\n",
        "\\\\-2&8\n",
        "\\end{pmatrix}\n",
        "$$\n",
        "\n",
        "$$\n",
        "A-B=\\begin{pmatrix}\n",
        "-2&-2\n",
        "\\\\2&-2\n",
        "\\end{pmatrix}\n",
        "$$\n",
        "\n",
        "2. $$\n",
        "AB=\\left(4\\cdot\\begin{pmatrix}\n",
        "2\n",
        "\\\\0\n",
        "\\end{pmatrix} -2\\cdot\\begin{pmatrix}\n",
        "-1\n",
        "\\\\3\n",
        "\\end{pmatrix} \\;\\;\\;\\;\\;\\;\n",
        "1\\cdot\\begin{pmatrix}\n",
        "2\n",
        "\\\\0\n",
        "\\end{pmatrix} +5\\cdot\\begin{pmatrix}\n",
        "-1\n",
        "\\\\3\n",
        "\\end{pmatrix}\n",
        "\\right)\n",
        "$$\n",
        "$$\n",
        "AB=\\begin{pmatrix}\n",
        "10&-3\n",
        "\\\\-6&15\n",
        "\\end{pmatrix}\n",
        "$$\n",
        "$$\n",
        "BA=\\left(2\\cdot\\begin{pmatrix}\n",
        "4\n",
        "\\\\-2\n",
        "\\end{pmatrix} +0\\cdot\\begin{pmatrix}\n",
        "1\n",
        "\\\\5\n",
        "\\end{pmatrix}\n",
        "\\;\\;\\;\\;\\;\\; -1\\cdot\\begin{pmatrix}\n",
        "4\n",
        "\\\\-2\n",
        "\\end{pmatrix} +3\\cdot\\begin{pmatrix}\n",
        "1\n",
        "\\\\5\n",
        "\\end{pmatrix}\n",
        "\\right)\n",
        "$$\n",
        "\n",
        "$$\n",
        "BA=\\begin{pmatrix}\n",
        "8&-1\n",
        "\\\\-4&17\n",
        "\\end{pmatrix}\n",
        "$$\n",
        "3. it is visible that AB does not equal BA. In general, matrices multiplication is not symmectrical like regular multiplication. in general:\n",
        "$$\n",
        "\\begin{pmatrix}\n",
        "a_{11} & a_{12}\n",
        "\\\\ a_{21}&a_{22}\n",
        "\\end{pmatrix}\n",
        "⋅\\begin{pmatrix}\n",
        "b_{11}&b_{12}\n",
        "\\\\b_{21}&b_{22}\n",
        "\\end{pmatrix}= b_{11}\\cdot\\begin{pmatrix} a_{11} \\\\ a_{21} \\end{pmatrix}+b_{12}\\cdot\\begin{pmatrix}a_{11}\\\\a_{21} \\end{pmatrix} \\;\\;\\;\\;\\;\\; b_{21}\\cdot\\begin{pmatrix}a_{12}\\\\a_{22} \\end{pmatrix}+b_{22}\\cdot\\begin{pmatrix} a_{21} \\\\ a_{22} \\end{pmatrix}\n",
        "$$\n",
        "and so they are not bound to be equal."
      ]
    },
    {
      "cell_type": "markdown",
      "metadata": {
        "id": "0F1_G9SEEDPV"
      },
      "source": [
        "### Question 8\n",
        "Let $ C $ be a $ 3 \\times 3 $ matrix:\n",
        "\n",
        "$$\n",
        "C = \\begin{pmatrix} 1 & 2 & 3 \\\\ 0 & -1 & 4 \\\\ 2 & 1 & 0 \\end{pmatrix}\n",
        "$$\n",
        "\n",
        "1. Find the transpose of $ C $, denoted $ C^T $.\n",
        "2. Calculate $ C + C^T $.\n",
        "3. Determine if $ C + C^T $ is symmetric."
      ]
    },
    {
      "cell_type": "markdown",
      "metadata": {
        "id": "4D300dp0EDPV"
      },
      "source": [
        "1. $$C^T=\\begin{pmatrix}\n",
        "1&0&2\n",
        "\\\\ 2&-1&1\n",
        "\\\\3&4&0\n",
        "\\end{pmatrix}\n",
        "$$\n",
        "2. $$\n",
        "C+C^T=\\begin{pmatrix}\n",
        "2&2&5\n",
        "\\\\2&-2&5\n",
        "\\\\5&5&0\n",
        "\\end{pmatrix}\n",
        "$$\n",
        "3. Let $C^T+C=S$. In order for $S$ to be symmetric the following should exist: $S=S^T$  \n",
        "$$\n",
        "S^T=\\begin{pmatrix}\n",
        "2&2&5\n",
        "\\\\2&-2&5\n",
        "\\\\5&5&0\n",
        "\\end{pmatrix}\n",
        "$$\n",
        "$S^T=S$ and so $S$ is symmetric"
      ]
    },
    {
      "cell_type": "markdown",
      "metadata": {
        "id": "YL9NHCIEEDPV"
      },
      "source": [
        "### Question 9\n",
        "A matrix $ D $ is defined as:\n",
        "\n",
        "$$\n",
        "D = \\begin{pmatrix} a & 0 & 0 \\\\ 0 & b & 0 \\\\ 0 & 0 & c \\end{pmatrix}\n",
        "$$\n",
        "\n",
        "1. Describe the type of matrix $ D $ and explain its properties.\n",
        "2. If $ D $ is a diagonal matrix, find its determinant.\n",
        "3. Explain the significance of a diagonal matrix in terms of linear transformations."
      ]
    },
    {
      "cell_type": "markdown",
      "metadata": {
        "id": "x92OLigoEDPW"
      },
      "source": [
        "1. The matrix $D$ is a diagonal matrix, which means it has non zero elements on the diagonal, while all other elements are zero. it's eigenvalues are the elements on the diagonal.\n",
        "2. det(D)=$a\\cdot b\\cdot c$\n",
        "3. a diagonal matrix can simplify the clculation of linear trasformation when the matrix has to be multiplied by itself many times. if a matrix is diagonizable the calculation can be significantly shortened."
      ]
    },
    {
      "cell_type": "markdown",
      "metadata": {
        "id": "LGw4rWw-EDPW"
      },
      "source": [
        "### Question 10\n",
        "Let $ E $ be a $ 2 \\times 2 $ matrix defined as:\n",
        "\n",
        "$$\n",
        "E = \\begin{pmatrix} 3 & 4 \\\\ 2 & 1 \\end{pmatrix}\n",
        "$$\n",
        "\n",
        "1. Find the eigenvalues of $ E $.\n",
        "2. For each eigenvalue, find the corresponding eigenvector.\n",
        "3. Explain how the eigenvalues and eigenvectors can be used to understand transformations represented by $ E $."
      ]
    },
    {
      "cell_type": "markdown",
      "metadata": {
        "id": "4w99dpMMEDPW"
      },
      "source": [
        "1.\n",
        "$$\\begin{vmatrix}(E-\\lambda I)\\end{vmatrix}=\\begin{vmatrix} 3-\\lambda&4\\\\ 2&1-\\lambda\\end{vmatrix}=0$$ <br>\n",
        "$$\n",
        "\\begin{vmatrix}(E-\\lambda I)\\end{vmatrix}=(3-\\lambda)(1-\\lambda)-8=0\n",
        "$$\n",
        "$\\lambda^2-4\\lambda-5=0$ <Br>\n",
        "$\\lambda_1=5 \\;\\; \\lambda_2=-1$\n",
        "\n",
        "2. for $\\lambda_1=5:$ <br>\n",
        "$$\\begin{pmatrix}\n",
        "-2&4\n",
        "\\\\2&-4\n",
        "\\end{pmatrix}\\cdot \\begin{pmatrix}v_1 \\\\v_2 \\end{pmatrix}=0$$\n",
        "$-2v_1+4v_2=0$ <br>\n",
        "$v_1=2v_2$ <br>\n",
        "$x(\\lambda_1=5)=\\begin{pmatrix} 1\\\\2 \\end{pmatrix}$ <br>\n",
        "for $\\lambda_2=-1:$ <br>\n",
        "$$\\begin{pmatrix} 4&4 \\\\ 2&2\n",
        "\\end{pmatrix}\\cdot \\begin{pmatrix} v_1\\\\v_2 \\end{pmatrix}=0$$ <br>\n",
        "$4v_1+4v_2=0$ <br>\n",
        "$v_1=-v_2$ <br>\n",
        "$x(\\lambda_2=-1)=\\begin{pmatrix}1\\\\-1\\end{pmatrix}$\n",
        "\n",
        "3. The matrix E can be seen as a linear transformation on vectors in $ℝ^2$. It's eigenvalues show how vectors are scaled along their corresponding eigenvectors, while eigenvectors show the directions in which the matrix acts."
      ]
    },
    {
      "cell_type": "markdown",
      "metadata": {
        "id": "j-dfREvtEDPW"
      },
      "source": [
        "## Part III: Probability Theory"
      ]
    },
    {
      "cell_type": "markdown",
      "metadata": {
        "id": "ifamXdH2EDPW"
      },
      "source": [
        "### Question 11\n",
        "In a population, 30% of individuals have a specific genetic marker. A test for this marker has a 95% accuracy rate for individuals with the marker and an 80% accuracy rate for those without the marker.\n",
        "1. Define the events and write out the given probabilities.\n",
        "2. Using Bayes' theorem, calculate the probability that an individual actually has the marker given a positive test result."
      ]
    },
    {
      "cell_type": "markdown",
      "metadata": {
        "id": "ECQtd6kfEDPW"
      },
      "source": [
        "1. A=having a specific genetic marker <br>\n",
        "$\\neg$A=not having a specific genetic marker <br>\n",
        "B=test is accurate<br>\n",
        "Probability of having the genetic marker - $P(A)=0.3$ <br>\n",
        "Probability of not having the genetic marker - $P(\\neg A)=0.7$ <br>\n",
        "Probability of having a positive resonse given having the marker -  $P(B|A)=0.95$ <br>\n",
        "Probability of having a negative response given not having the marker -  $P(B|\\neg A)=0.8$ <br>\n",
        "2. Probability of having the marker given a positive test result - $P(A|B)$ <br>\n",
        "According to Bays' Theorem: <br>\n",
        "$P(A|B)=\\frac{P(B|A)\\cdot P(A)}{P(B)}$ <br>\n",
        "$P(B)=P(B|A)P(A)+P(B|\\neg A)P(\\neg A)$ <br>\n",
        "$P(B)=0.95\\cdot 0.3+ 0.8\\cdot0.7= 0.845$ <br>\n",
        "$P(A|B)=\\frac{0.95 \\cdot 0.4}{0.845}=0.449$\n"
      ]
    },
    {
      "cell_type": "markdown",
      "metadata": {
        "id": "ckpE42sUEDPW"
      },
      "source": [
        "### Question 12\n",
        "A die is rolled 12 times. Let $ X $ be the random variable representing the number of times a \"5\" appears.\n",
        "1. What type of probability distribution does $ X $ follow?\n",
        "2. Calculate the probability that \"5\" appears exactly 4 times.\n",
        "3. Determine the expected number of times \"5\" will appear in 12 rolls."
      ]
    },
    {
      "cell_type": "markdown",
      "metadata": {
        "id": "7YUY1z9kEDPW"
      },
      "source": [
        "1. X follow a binomial distribution. There is a number of independent trials where there are two binary options - success or failure, and their probability doesnt change each time.\n",
        "2. P(A=\"5\" appears exactly 4 times)=$\\frac{1}{6}^4+\\frac{5}{6}^8=0.2333$\n",
        "3. $E(X)=n\\cdot p$ where $n$=number of rolls=12 and $p$=probability of recieving 5=$\\frac{1}{6}$ <br>\n",
        "$E(X)=12 \\cdot \\frac{1}{6}=2$"
      ]
    },
    {
      "cell_type": "markdown",
      "metadata": {
        "id": "M9xWmE54EDPW"
      },
      "source": [
        "### Question 13\n",
        "A bookstore averages 3 customer visits per hour. Assume the number of customer visits per hour follows a Poisson distribution.\n",
        "1. Calculate the probability that exactly 5 customers visit in a given hour.\n",
        "2. Find the probability that at least 1 customer visits in a given hour."
      ]
    },
    {
      "cell_type": "markdown",
      "metadata": {
        "id": "aoRhMfFPEDPW"
      },
      "source": [
        "1. According to the Poisson distribution: <br>\n",
        "$P(X=k)=\\frac {\\lambda^ke^{-\\lambda}}{k!}=\\frac{3^5e^{-3}}{5!}=0.1008$\n",
        "2. $P(X>=1)=1-P(X=0)$ <br>\n",
        "$P(X=0)=\\frac{3^0e^{-3}}{0!}=e^{-3}$ <br>\n",
        "$P(X>=1)=1-P(X=0)=1-e^{-3}=0.9502$"
      ]
    },
    {
      "cell_type": "markdown",
      "metadata": {
        "id": "DKGcHLXCEDPW"
      },
      "source": [
        "### Question 14\n",
        "Assume a continuous random variable $ Y $ follows a normal distribution with mean $ \\mu = 50 $ and standard deviation $ \\sigma = 5 $.\n",
        "1. Calculate the probability that $ Y $ takes a value between 45 and 55.\n",
        "2. Find the value $ y $ such that $ P(Y \\leq y) = 0.85 $."
      ]
    },
    {
      "cell_type": "markdown",
      "metadata": {
        "id": "5UmdEXsSEDPW"
      },
      "source": [
        "1. According to the emprirical rule - 68% of the data lies within 1 standard deviation from the mean. both 45 and 55 are 1 standard deviation from the mean $(\\mu=50 \\;\\sigma=5)$ and so the probability that $Y$ takes a value between 45 and 55 is 0.68.\n",
        "2. According to the z-score table, the values corresponding to the commulative probability of 0.85 is z=1.036 <br>\n",
        "$z=\\frac{y-\\mu}{\\sigma}$ <br>\n",
        "$y=55.18$"
      ]
    },
    {
      "cell_type": "markdown",
      "metadata": {
        "id": "MEU_jAD2EDPW"
      },
      "source": [
        "### Question 15\n",
        "A company's product quality control process involves two independent tests. Each test has a 98% probability of detecting a defect if it is present.\n",
        "1. What is the probability that both tests detect a defect when it is present?\n",
        "2. What is the probability that at least one test detects a defect when it is present?\n",
        "3. If the company requires both tests to detect a defect before rejecting a product, calculate the probability that a defective product will be rejected."
      ]
    },
    {
      "cell_type": "markdown",
      "metadata": {
        "id": "dX_kjsmGEDPW"
      },
      "source": [
        "1. Detecting a defect if it's present in test A $P(A)$=0.98 <br>\n",
        "Detecting a defect if it's present in test B $P(B)$=0.98 <br>\n",
        "Detecting a defect in both tests if it's present= $0.98^2=0.9604$\n",
        "2. Probability that at least one test detects a defect = probability that A detects a defect and B not + probability that A does not detect a defect and A does + probability that both A and B detecT a difference =$P(A) \\cdot P(\\neg B)+P(\\neg A)\\cdot P(B) + P(A) \\cdot P(B)= 0.98 \\cdot 0.02 +0.02 \\cdot 0.98 + 0.98^2=0.9996$\n",
        "3. This probability equals to the probability of detecting a defect in both tests if it is present = $0.9604$"
      ]
    }
  ],
  "metadata": {
    "language_info": {
      "name": "python"
    },
    "colab": {
      "provenance": []
    }
  },
  "nbformat": 4,
  "nbformat_minor": 0
}